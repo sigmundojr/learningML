{
  "nbformat": 4,
  "nbformat_minor": 0,
  "metadata": {
    "colab": {
      "name": "LPProgrammingBakery.ipynb",
      "provenance": [],
      "authorship_tag": "ABX9TyPsQV1MJBcnv86PzTyLXQ6p",
      "include_colab_link": true
    },
    "kernelspec": {
      "name": "python3",
      "display_name": "Python 3"
    }
  },
  "cells": [
    {
      "cell_type": "markdown",
      "metadata": {
        "id": "view-in-github",
        "colab_type": "text"
      },
      "source": [
        "<a href=\"https://colab.research.google.com/github/sigmundojr/learningML/blob/master/LPProgrammingBakery.ipynb\" target=\"_parent\"><img src=\"https://colab.research.google.com/assets/colab-badge.svg\" alt=\"Open In Colab\"/></a>"
      ]
    },
    {
      "cell_type": "markdown",
      "metadata": {
        "id": "l-OEK_uef5A-"
      },
      "source": [
        "##Linear Programming - Optimization Problems\n",
        "The basics of using Linear Programming in Python PuLP"
      ]
    },
    {
      "cell_type": "markdown",
      "metadata": {
        "id": "S0Uzy-8Mgp_F"
      },
      "source": [
        "Resource Planning Problem by @idil\n",
        "\n",
        "\n",
        "> A bakery makes cakes and pies every day of a month. There is: 1 oven, 2 bakers, 1 packaging packer that works only 22 days of the month. The cake requires to use the oven for 1 day and the pie requires 0.5 day. Each baker needs to work for cake 0.5 days and pie 2 days. Packer needs to work for cake 1 day and pie 0.5 days. The profit on each cake is USD15 and the profit on each pie is USD12. How many should be made to maximize the profit under given conditions?\n",
        "\n"
      ]
    },
    {
      "cell_type": "code",
      "metadata": {
        "id": "CH_Py8MlhUqd"
      },
      "source": [
        "!pip install pulp"
      ],
      "execution_count": null,
      "outputs": []
    },
    {
      "cell_type": "code",
      "metadata": {
        "colab": {
          "base_uri": "https://localhost:8080/"
        },
        "id": "58Sc0nkwfxvm",
        "outputId": "e6a24c62-9efc-4a26-b0bf-b821daf01edf"
      },
      "source": [
        "import pulp\n",
        "from pulp import *\n",
        "model = LpProblem('Maximize Bakery Profits', sense= LpMaximize)"
      ],
      "execution_count": 3,
      "outputs": [
        {
          "output_type": "stream",
          "text": [
            "/usr/local/lib/python3.6/dist-packages/pulp/pulp.py:1198: UserWarning: Spaces are not permitted in the name. Converted to '_'\n",
            "  warnings.warn(\"Spaces are not permitted in the name. Converted to '_'\")\n"
          ],
          "name": "stderr"
        }
      ]
    },
    {
      "cell_type": "code",
      "metadata": {
        "id": "8m389rzehMsm"
      },
      "source": [
        "# Defining the decision variables\n",
        "C = LpVariable('C', lowBound=0, upBound=None, cat='Integer')\n",
        "P = LpVariable('P', lowBound=0, upBound=None, cat='Integer')"
      ],
      "execution_count": 5,
      "outputs": []
    },
    {
      "cell_type": "code",
      "metadata": {
        "id": "zmA5nk1BhemC"
      },
      "source": [
        "# Defining the objective function\n",
        "model += 15 * C + 12 * P"
      ],
      "execution_count": 6,
      "outputs": []
    },
    {
      "cell_type": "code",
      "metadata": {
        "id": "rlkviRCPhjVt"
      },
      "source": [
        "# Defining the constraints\n",
        "model += 1 * C + 0.5 * P <= 30\n",
        "model += 0.5 * C + 2 * P <= 60\n",
        "model += 1 * C + 0.5 * P <= 22"
      ],
      "execution_count": 7,
      "outputs": []
    },
    {
      "cell_type": "code",
      "metadata": {
        "colab": {
          "base_uri": "https://localhost:8080/"
        },
        "id": "y4do1Oqvhnj1",
        "outputId": "c0207409-c4c1-4ba2-ce62-79752d2f2979"
      },
      "source": [
        "# Solving model\n",
        "model.solve()"
      ],
      "execution_count": 8,
      "outputs": [
        {
          "output_type": "execute_result",
          "data": {
            "text/plain": [
              "1"
            ]
          },
          "metadata": {
            "tags": []
          },
          "execution_count": 8
        }
      ]
    },
    {
      "cell_type": "code",
      "metadata": {
        "colab": {
          "base_uri": "https://localhost:8080/",
          "height": 35
        },
        "id": "YSQGk5O2hr-m",
        "outputId": "9104de89-e560-4ddb-df8e-fa03b98af0f6"
      },
      "source": [
        "# Check the status of the solution \n",
        "LpStatus[model.status]"
      ],
      "execution_count": 9,
      "outputs": [
        {
          "output_type": "execute_result",
          "data": {
            "application/vnd.google.colaboratory.intrinsic+json": {
              "type": "string"
            },
            "text/plain": [
              "'Optimal'"
            ]
          },
          "metadata": {
            "tags": []
          },
          "execution_count": 9
        }
      ]
    },
    {
      "cell_type": "code",
      "metadata": {
        "colab": {
          "base_uri": "https://localhost:8080/"
        },
        "id": "deOzapIJhtMd",
        "outputId": "9e79effb-96b6-4241-ee0c-3d36de8a4ea2"
      },
      "source": [
        "# Printing the optimized decision variables \n",
        "C.varValue "
      ],
      "execution_count": 13,
      "outputs": [
        {
          "output_type": "execute_result",
          "data": {
            "text/plain": [
              "8.0"
            ]
          },
          "metadata": {
            "tags": []
          },
          "execution_count": 13
        }
      ]
    },
    {
      "cell_type": "code",
      "metadata": {
        "colab": {
          "base_uri": "https://localhost:8080/"
        },
        "id": "Ikx06Jl4h77m",
        "outputId": "c2a3e764-4f05-4d57-c700-042cf956d160"
      },
      "source": [
        "# Printing the optimized decision variables \n",
        "P.varValue"
      ],
      "execution_count": 14,
      "outputs": [
        {
          "output_type": "execute_result",
          "data": {
            "text/plain": [
              "28.0"
            ]
          },
          "metadata": {
            "tags": []
          },
          "execution_count": 14
        }
      ]
    },
    {
      "cell_type": "code",
      "metadata": {
        "colab": {
          "base_uri": "https://localhost:8080/"
        },
        "id": "GqyNnUpsht9l",
        "outputId": "2739a639-c1e5-4b8c-d335-66ae1c4f691b"
      },
      "source": [
        "# Printing the  optimized objective function \n",
        "value(model.objective)"
      ],
      "execution_count": 16,
      "outputs": [
        {
          "output_type": "execute_result",
          "data": {
            "text/plain": [
              "456.0"
            ]
          },
          "metadata": {
            "tags": []
          },
          "execution_count": 16
        }
      ]
    },
    {
      "cell_type": "code",
      "metadata": {
        "id": "IhiaAx2hiOE8"
      },
      "source": [
        "Thanks to https://towardsdatascience.com/how-to-develop-optimization-models-in-python-1a03ef72f5b4"
      ],
      "execution_count": null,
      "outputs": []
    }
  ]
}