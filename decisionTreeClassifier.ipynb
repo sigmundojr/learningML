{
  "nbformat": 4,
  "nbformat_minor": 0,
  "metadata": {
    "colab": {
      "name": "Untitled7.ipynb",
      "provenance": [],
      "authorship_tag": "ABX9TyOOt3rkGUTDNrqAFJjfT/MC",
      "include_colab_link": true
    },
    "kernelspec": {
      "name": "python3",
      "display_name": "Python 3"
    }
  },
  "cells": [
    {
      "cell_type": "markdown",
      "metadata": {
        "id": "view-in-github",
        "colab_type": "text"
      },
      "source": [
        "<a href=\"https://colab.research.google.com/github/sigmundojr/learningML/blob/master/decisionTreeClassifier.ipynb\" target=\"_parent\"><img src=\"https://colab.research.google.com/assets/colab-badge.svg\" alt=\"Open In Colab\"/></a>"
      ]
    },
    {
      "cell_type": "markdown",
      "metadata": {
        "id": "DmnpInJnX4tr"
      },
      "source": [
        "### Decision Tree Classifier\n"
      ]
    },
    {
      "cell_type": "markdown",
      "metadata": {
        "id": "Wb9j0RQwXi7l"
      },
      "source": [
        "This is part of a tutorial used to teach Data Science.\n",
        "\n",
        "Python Machine Learning Tutorial (Data Science). Thank you my friend Mosh "
      ]
    },
    {
      "cell_type": "code",
      "metadata": {
        "id": "XDu1MqmHWWs3"
      },
      "source": [
        "# Importing libraries\n",
        "\n",
        "# Manipulating data\n",
        "import pandas as pd\n",
        "\n",
        "# Use Sklearn Decision Trees\n",
        "from sklearn.tree import DecisionTreeClassifier\n",
        "\n",
        "# Library to split our data into Test and Train\n",
        "from sklearn.model_selection import train_test_split\n",
        "\n",
        "# Library to mesure the Accuracy of our model\n",
        "from sklearn.metrics import accuracy_score\n"
      ],
      "execution_count": 18,
      "outputs": []
    },
    {
      "cell_type": "code",
      "metadata": {
        "id": "34WEEYOPfhR_",
        "outputId": "60d23cb8-2b0c-498d-c232-da10ea77d893",
        "colab": {
          "base_uri": "https://localhost:8080/"
        }
      },
      "source": [
        "# Loading data, also available on https://bit.ly/3muqqta\n",
        "music_data = pd.read_csv('music.csv')\n",
        "\n",
        "# Our dataset is small 18x3\n",
        "music_data.shape"
      ],
      "execution_count": 19,
      "outputs": [
        {
          "output_type": "execute_result",
          "data": {
            "text/plain": [
              "(18, 3)"
            ]
          },
          "metadata": {
            "tags": []
          },
          "execution_count": 19
        }
      ]
    },
    {
      "cell_type": "code",
      "metadata": {
        "id": "TvcqTDUJemE3",
        "outputId": "83828cd7-0ef0-4304-9187-b529f463bc9d",
        "colab": {
          "base_uri": "https://localhost:8080/",
          "height": 607
        }
      },
      "source": [
        "# It represents the musical preferences by age and gender\n",
        "# Gender: 1 = Male and 0 = Female\n",
        "\n",
        "# Hypotesis : - Men from 20 to 25 like HipHop, \n",
        "#             - Women from 20 to 25 Dance Music\n",
        "#             - Men and Women from 31 to 37 like Classical \n",
        "\n",
        "music_data"
      ],
      "execution_count": 20,
      "outputs": [
        {
          "output_type": "execute_result",
          "data": {
            "text/html": [
              "<div>\n",
              "<style scoped>\n",
              "    .dataframe tbody tr th:only-of-type {\n",
              "        vertical-align: middle;\n",
              "    }\n",
              "\n",
              "    .dataframe tbody tr th {\n",
              "        vertical-align: top;\n",
              "    }\n",
              "\n",
              "    .dataframe thead th {\n",
              "        text-align: right;\n",
              "    }\n",
              "</style>\n",
              "<table border=\"1\" class=\"dataframe\">\n",
              "  <thead>\n",
              "    <tr style=\"text-align: right;\">\n",
              "      <th></th>\n",
              "      <th>age</th>\n",
              "      <th>gender</th>\n",
              "      <th>genre</th>\n",
              "    </tr>\n",
              "  </thead>\n",
              "  <tbody>\n",
              "    <tr>\n",
              "      <th>0</th>\n",
              "      <td>20</td>\n",
              "      <td>1</td>\n",
              "      <td>HipHop</td>\n",
              "    </tr>\n",
              "    <tr>\n",
              "      <th>1</th>\n",
              "      <td>23</td>\n",
              "      <td>1</td>\n",
              "      <td>HipHop</td>\n",
              "    </tr>\n",
              "    <tr>\n",
              "      <th>2</th>\n",
              "      <td>25</td>\n",
              "      <td>1</td>\n",
              "      <td>HipHop</td>\n",
              "    </tr>\n",
              "    <tr>\n",
              "      <th>3</th>\n",
              "      <td>26</td>\n",
              "      <td>1</td>\n",
              "      <td>Jazz</td>\n",
              "    </tr>\n",
              "    <tr>\n",
              "      <th>4</th>\n",
              "      <td>29</td>\n",
              "      <td>1</td>\n",
              "      <td>Jazz</td>\n",
              "    </tr>\n",
              "    <tr>\n",
              "      <th>5</th>\n",
              "      <td>30</td>\n",
              "      <td>1</td>\n",
              "      <td>Jazz</td>\n",
              "    </tr>\n",
              "    <tr>\n",
              "      <th>6</th>\n",
              "      <td>31</td>\n",
              "      <td>1</td>\n",
              "      <td>Classical</td>\n",
              "    </tr>\n",
              "    <tr>\n",
              "      <th>7</th>\n",
              "      <td>33</td>\n",
              "      <td>1</td>\n",
              "      <td>Classical</td>\n",
              "    </tr>\n",
              "    <tr>\n",
              "      <th>8</th>\n",
              "      <td>37</td>\n",
              "      <td>1</td>\n",
              "      <td>Classical</td>\n",
              "    </tr>\n",
              "    <tr>\n",
              "      <th>9</th>\n",
              "      <td>20</td>\n",
              "      <td>0</td>\n",
              "      <td>Dance</td>\n",
              "    </tr>\n",
              "    <tr>\n",
              "      <th>10</th>\n",
              "      <td>21</td>\n",
              "      <td>0</td>\n",
              "      <td>Dance</td>\n",
              "    </tr>\n",
              "    <tr>\n",
              "      <th>11</th>\n",
              "      <td>25</td>\n",
              "      <td>0</td>\n",
              "      <td>Dance</td>\n",
              "    </tr>\n",
              "    <tr>\n",
              "      <th>12</th>\n",
              "      <td>26</td>\n",
              "      <td>0</td>\n",
              "      <td>Acoustic</td>\n",
              "    </tr>\n",
              "    <tr>\n",
              "      <th>13</th>\n",
              "      <td>27</td>\n",
              "      <td>0</td>\n",
              "      <td>Acoustic</td>\n",
              "    </tr>\n",
              "    <tr>\n",
              "      <th>14</th>\n",
              "      <td>30</td>\n",
              "      <td>0</td>\n",
              "      <td>Acoustic</td>\n",
              "    </tr>\n",
              "    <tr>\n",
              "      <th>15</th>\n",
              "      <td>31</td>\n",
              "      <td>0</td>\n",
              "      <td>Classical</td>\n",
              "    </tr>\n",
              "    <tr>\n",
              "      <th>16</th>\n",
              "      <td>34</td>\n",
              "      <td>0</td>\n",
              "      <td>Classical</td>\n",
              "    </tr>\n",
              "    <tr>\n",
              "      <th>17</th>\n",
              "      <td>35</td>\n",
              "      <td>0</td>\n",
              "      <td>Classical</td>\n",
              "    </tr>\n",
              "  </tbody>\n",
              "</table>\n",
              "</div>"
            ],
            "text/plain": [
              "    age  gender      genre\n",
              "0    20       1     HipHop\n",
              "1    23       1     HipHop\n",
              "2    25       1     HipHop\n",
              "3    26       1       Jazz\n",
              "4    29       1       Jazz\n",
              "5    30       1       Jazz\n",
              "6    31       1  Classical\n",
              "7    33       1  Classical\n",
              "8    37       1  Classical\n",
              "9    20       0      Dance\n",
              "10   21       0      Dance\n",
              "11   25       0      Dance\n",
              "12   26       0   Acoustic\n",
              "13   27       0   Acoustic\n",
              "14   30       0   Acoustic\n",
              "15   31       0  Classical\n",
              "16   34       0  Classical\n",
              "17   35       0  Classical"
            ]
          },
          "metadata": {
            "tags": []
          },
          "execution_count": 20
        }
      ]
    },
    {
      "cell_type": "code",
      "metadata": {
        "id": "r-ywf-E7eZDK",
        "outputId": "ac734eb1-f583-4341-aa4b-db7da25809dc",
        "colab": {
          "base_uri": "https://localhost:8080/"
        }
      },
      "source": [
        "X = music_data.drop(columns=['genre'])\n",
        "y = music_data['genre']\n",
        "#alocating 20% to test\n",
        "X_train, X_test, y_train, y_test = train_test_split(X, y, test_size=0.2)\n",
        "\n",
        "model = DecisionTreeClassifier()\n",
        "model.fit(X,y)\n",
        "predictions = model.predict([[21,1],[22,0]])\n",
        "predictions"
      ],
      "execution_count": 16,
      "outputs": [
        {
          "output_type": "execute_result",
          "data": {
            "text/plain": [
              "array(['HipHop', 'Dance'], dtype=object)"
            ]
          },
          "metadata": {
            "tags": []
          },
          "execution_count": 16
        }
      ]
    },
    {
      "cell_type": "code",
      "metadata": {
        "id": "hZeTpGCPeyZ5",
        "outputId": "cd7040e2-748d-4095-edb7-0c8eda30d1b0",
        "colab": {
          "base_uri": "https://localhost:8080/"
        }
      },
      "source": [
        "X = music_data.drop(columns=['genre'])\n",
        "y = music_data['genre']\n",
        "\n",
        "X_train, X_test, y_train, y_test = train_test_split(X, y, test_size=0.2)\n",
        "\n",
        "model = DecisionTreeClassifier()\n",
        "model.fit(X_train, y_train)\n",
        "predictions = model. predict(X_test)\n",
        "\n",
        "# returns 0 to 1\n",
        "score = accuracy_score(y_test, predictions)\n",
        "score"
      ],
      "execution_count": 17,
      "outputs": [
        {
          "output_type": "execute_result",
          "data": {
            "text/plain": [
              "1.0"
            ]
          },
          "metadata": {
            "tags": []
          },
          "execution_count": 17
        }
      ]
    },
    {
      "cell_type": "code",
      "metadata": {
        "id": "mx-5uhmXaWG0",
        "outputId": "00fd9b39-890c-4d66-9872-d69e72c40bc4",
        "colab": {
          "base_uri": "https://localhost:8080/"
        }
      },
      "source": [
        "\n",
        "\n",
        "music_data = pd.read_csv('music.csv')\n",
        "X = music_data.drop(columns=['genre'])\n",
        "y = music_data['genre']\n",
        "\n",
        "model = DecisionTreeClassifier()\n",
        "model.fit(X,y)\n",
        "\n",
        "# Now let's save the predictions into a file \n",
        "joblib.dump(model, 'music-recommender.joblib')\n"
      ],
      "execution_count": 7,
      "outputs": [
        {
          "output_type": "stream",
          "text": [
            "/usr/local/lib/python3.6/dist-packages/sklearn/externals/joblib/__init__.py:15: FutureWarning: sklearn.externals.joblib is deprecated in 0.21 and will be removed in 0.23. Please import this functionality directly from joblib, which can be installed with: pip install joblib. If this warning is raised when loading pickled models, you may need to re-serialize those models with scikit-learn 0.21+.\n",
            "  warnings.warn(msg, category=FutureWarning)\n"
          ],
          "name": "stderr"
        },
        {
          "output_type": "execute_result",
          "data": {
            "text/plain": [
              "['music-recommender.joblib']"
            ]
          },
          "metadata": {
            "tags": []
          },
          "execution_count": 7
        }
      ]
    },
    {
      "cell_type": "code",
      "metadata": {
        "id": "y9wtY38ja5q8",
        "outputId": "71a40664-c136-44b3-8b6f-c35970a004aa",
        "colab": {
          "base_uri": "https://localhost:8080/"
        }
      },
      "source": [
        "# Loading the model\n",
        "import pandas as pd\n",
        "from sklearn.tree import DecisionTreeClassifier\n",
        "from sklearn.externals import joblib\n",
        "\n",
        "\n",
        "model = joblib.load('music-recommender.joblib')\n",
        "predictions = model.predict([[21,1]])\n",
        "predictions"
      ],
      "execution_count": 8,
      "outputs": [
        {
          "output_type": "execute_result",
          "data": {
            "text/plain": [
              "array(['HipHop'], dtype=object)"
            ]
          },
          "metadata": {
            "tags": []
          },
          "execution_count": 8
        }
      ]
    },
    {
      "cell_type": "code",
      "metadata": {
        "id": "OoprnhCzbZP7"
      },
      "source": [
        "# Exporting the Decision Tree in a visual model \n",
        "\n",
        "import pandas as pd\n",
        "from sklearn.tree import DecisionTreeClassifier\n",
        "from sklearn.model_selection import train_test_split\n",
        "from sklearn import tree\n",
        "\n",
        "music_data = pd.read_csv('music.csv')\n",
        "X = music_data.drop(columns=['genre'])\n",
        "y = music_data['genre']\n",
        "\n",
        "model = DecisionTreeClassifier()\n",
        "model.fit(X,y)\n",
        "\n",
        "tree.export_graphviz(model, out_file='music-recommender.dot',\n",
        "                     feature_names=['age', 'gender'], #see the rules for each of those features\n",
        "                     class_names=sorted(y.unique()), #display the name of the class in each node \n",
        "                     label='all', # put readble labes\n",
        "                     rounded=True, #rounded corners\n",
        "                     filled=True) # each box, each class = fill with color\n",
        "\n",
        "# Now we have a file *.dot saved\n",
        "# Install and go to your VSCode\n",
        "# Drag and drop the file into the Vs.Code\n",
        "# Extension, install Graphiz (dot) language by Sthephanvs\n",
        "# reload vsCode\n",
        "# clik on the right upper side [...] three dots, <Open Preview>\n",
        "# here we are"
      ],
      "execution_count": 9,
      "outputs": []
    },
    {
      "cell_type": "code",
      "metadata": {
        "id": "oxbSRFH_dCgV"
      },
      "source": [
        "# https://www.youtube.com/watch?v=7eh4d6sabA0"
      ],
      "execution_count": null,
      "outputs": []
    }
  ]
}